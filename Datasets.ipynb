{
  "nbformat": 4,
  "nbformat_minor": 0,
  "metadata": {
    "colab": {
      "provenance": [],
      "authorship_tag": "ABX9TyM6Vm7v5eNpHszYYysXrAi8",
      "include_colab_link": true
    },
    "kernelspec": {
      "name": "python3",
      "display_name": "Python 3"
    },
    "language_info": {
      "name": "python"
    }
  },
  "cells": [
    {
      "cell_type": "markdown",
      "metadata": {
        "id": "view-in-github",
        "colab_type": "text"
      },
      "source": [
        "<a href=\"https://colab.research.google.com/github/bahmanravaei/tutorial-for-ML/blob/main/Datasets.ipynb\" target=\"_parent\"><img src=\"https://colab.research.google.com/assets/colab-badge.svg\" alt=\"Open In Colab\"/></a>"
      ]
    },
    {
      "cell_type": "markdown",
      "source": [
        "# Datasets"
      ],
      "metadata": {
        "id": "SXinvImq7nqp"
      }
    },
    {
      "cell_type": "markdown",
      "source": [
        "How to find datasets. There are some sources for datasets. \n",
        "\n",
        "<ol>\n",
        "<li>Datasets form Python library\n",
        "<ol type=i>\n",
        "<li>Statsmodels</li>\n",
        "<li>Sklearn</li>\n",
        "<li>Vega-Datasets</li>\n",
        "<li>...</li>\n",
        "</ol>\n",
        "</li>\n",
        "<li>Datasets form well known dataset resource</li>\n",
        "<ol type=i>\n",
        "<li><a href=\"https://www.kaggle.com\"/>Kaggle</a></li>\n",
        "<li><a href=\"http://archive.ics.uci.edu/ml/index.php\">UCI Machine Learning Repository</></li>\n",
        "<li><a href=\"https://data.fivethirtyeight.com/\">FiveThirtyEight</a></li>\n",
        "<li><a href=\"https://www.google.com/search?q=free+datasets+for+machine+learning&oq=free+datasets+for+&aqs=chrome.1.69i57j0i512j0i20i263i512j0i512l4j69i60.7234j0j4&sourceid=chrome&ie=UTF-8\">Just google it</a></li>\n",
        "</ol>\n",
        "</ol>"
      ],
      "metadata": {
        "id": "g0mO-But7sv_"
      }
    },
    {
      "cell_type": "markdown",
      "source": [
        "##Datasets form Python library"
      ],
      "metadata": {
        "id": "4LG7G9K6d13I"
      }
    },
    {
      "cell_type": "markdown",
      "source": [
        "###Statsmodels"
      ],
      "metadata": {
        "id": "zFFHgBFo_3Ct"
      }
    },
    {
      "cell_type": "code",
      "execution_count": 42,
      "metadata": {
        "colab": {
          "base_uri": "https://localhost:8080/"
        },
        "id": "Of59zKvf636H",
        "outputId": "39886e97-f1ee-4fb9-a8c2-04750fc070a1"
      },
      "outputs": [
        {
          "output_type": "stream",
          "name": "stdout",
          "text": [
            "            type  income  education  prestige\n",
            "accountant  prof      62         86        82\n",
            "pilot       prof      72         76        83\n",
            "architect   prof      75         92        90\n",
            "author      prof      55         90        76\n",
            "chemist     prof      64         86        90\n"
          ]
        }
      ],
      "source": [
        "import statsmodels.api as sm\n",
        "duncan_prestige = sm.datasets.get_rdataset(\"Duncan\", \"carData\")\n",
        "print (duncan_prestige.data.head())"
      ]
    },
    {
      "cell_type": "markdown",
      "source": [
        "Available datasets in Statesmodels are listed as follow: <br />\n",
        "<table border=0 cellpadding=0 cellspacing=0 width=410 style='border-collapse:\n",
        " collapse;table-layout:fixed;width:307pt'>\n",
        " <col width=64 style='width:48pt'>\n",
        " <col width=346 style='mso-width-source:userset;mso-width-alt:12288;width:259pt'>\n",
        " <tr height=19 style='height:14.4pt'>\n",
        "  <td height=19 class=xl1510490 align=right width=64 style='height:14.4pt;\n",
        "  width:48pt'>1</td>\n",
        "  <td class=xl1510490 width=346 style='width:259pt'><a\n",
        "  href=\"https://www.statsmodels.org/devel/datasets/generated/anes96.html\"\n",
        "  style='box-sizing: inherit;-webkit-tap-highlight-color: transparent;\n",
        "  word-break:break-word;transition: color 0.125s ease 0s'><span\n",
        "  style='color:black;font-weight:400'>American National Election Survey 1996</span></a></td>\n",
        " </tr>\n",
        " <tr height=19 style='height:14.4pt'>\n",
        "  <td height=19 class=xl1510490 align=right style='height:14.4pt'>2</td>\n",
        "  <td class=xl1510490><a\n",
        "  href=\"https://www.statsmodels.org/devel/datasets/generated/cancer.html\"\n",
        "  style='box-sizing: inherit;-webkit-tap-highlight-color: transparent;\n",
        "  word-break:break-word;transition: color 0.125s ease 0s'><span\n",
        "  style='color:black;text-decoration:none'>Breast Cancer Data</span></a></td>\n",
        " </tr>\n",
        " <tr height=19 style='height:14.4pt'>\n",
        "  <td height=19 class=xl1510490 align=right style='height:14.4pt'>3</td>\n",
        "  <td class=xl1510490><a\n",
        "  href=\"https://www.statsmodels.org/devel/datasets/generated/ccard.html\"\n",
        "  style='box-sizing: inherit;-webkit-tap-highlight-color: transparent;\n",
        "  word-break:break-word;transition: color 0.125s ease 0s'><span\n",
        "  style='color:black;text-decoration:none'>Bill Greene’s credit scoring data.</span></a></td>\n",
        " </tr>\n",
        " <tr height=19 style='height:14.4pt'>\n",
        "  <td height=19 class=xl1510490 align=right style='height:14.4pt'>4</td>\n",
        "  <td class=xl1510490><a\n",
        "  href=\"https://www.statsmodels.org/devel/datasets/generated/china_smoking.html\"\n",
        "  style='box-sizing: inherit;-webkit-tap-highlight-color: transparent;\n",
        "  word-break:break-word;transition: color 0.125s ease 0s'><span\n",
        "  style='color:black;text-decoration:none'>Smoking and lung cancer in eight\n",
        "  cities in China.</span></a></td>\n",
        " </tr>\n",
        " <tr height=19 style='height:14.4pt'>\n",
        "  <td height=19 class=xl1510490 align=right style='height:14.4pt'>5</td>\n",
        "  <td class=xl1510490><a\n",
        "  href=\"https://www.statsmodels.org/devel/datasets/generated/co2.html\"\n",
        "  style='box-sizing: inherit;-webkit-tap-highlight-color: transparent;\n",
        "  word-break:break-word;transition: color 0.125s ease 0s'><span\n",
        "  style='color:black;text-decoration:none'>Mauna Loa Weekly Atmospheric CO2\n",
        "  Data</span></a></td>\n",
        " </tr>\n",
        " <tr height=19 style='height:14.4pt'>\n",
        "  <td height=19 class=xl1510490 align=right style='height:14.4pt'>6</td>\n",
        "  <td class=xl1510490><a\n",
        "  href=\"https://www.statsmodels.org/devel/datasets/generated/committee.html\"\n",
        "  style='box-sizing: inherit;-webkit-tap-highlight-color: transparent;\n",
        "  word-break:break-word;transition: color 0.125s ease 0s'><span\n",
        "  style='color:black;text-decoration:none'>First 100 days of the US House of\n",
        "  Representatives 1995</span></a></td>\n",
        " </tr>\n",
        " <tr height=19 style='height:14.4pt'>\n",
        "  <td height=19 class=xl1510490 align=right style='height:14.4pt'>7</td>\n",
        "  <td class=xl1510490><a\n",
        "  href=\"https://www.statsmodels.org/devel/datasets/generated/copper.html\"\n",
        "  style='box-sizing: inherit;-webkit-tap-highlight-color: transparent;\n",
        "  word-break:break-word;transition: color 0.125s ease 0s'><span\n",
        "  style='color:black;text-decoration:none'>World Copper Market 1951-1975\n",
        "  Dataset</span></a></td>\n",
        " </tr>\n",
        " <tr height=19 style='height:14.4pt'>\n",
        "  <td height=19 class=xl1510490 align=right style='height:14.4pt'>8</td>\n",
        "  <td class=xl1510490><a\n",
        "  href=\"https://www.statsmodels.org/devel/datasets/generated/cpunish.html\"\n",
        "  style='box-sizing: inherit;-webkit-tap-highlight-color: transparent;\n",
        "  word-break:break-word;transition: color 0.125s ease 0s'><span\n",
        "  style='color:black;text-decoration:none'>US Capital Punishment dataset.</span></a></td>\n",
        " </tr>\n",
        " <tr height=19 style='height:14.4pt'>\n",
        "  <td height=19 class=xl1510490 align=right style='height:14.4pt'>9</td>\n",
        "  <td class=xl1510490><a\n",
        "  href=\"https://www.statsmodels.org/devel/datasets/generated/danish_data.html\"\n",
        "  style='box-sizing: inherit;-webkit-tap-highlight-color: transparent;\n",
        "  word-break:break-word;transition: color 0.125s ease 0s'><span\n",
        "  style='color:black;text-decoration:none'>Danish Money Demand Data</span></a></td>\n",
        " </tr>\n",
        " <tr height=19 style='height:14.4pt'>\n",
        "  <td height=19 class=xl1510490 align=right style='height:14.4pt'>10</td>\n",
        "  <td class=xl1510490><a\n",
        "  href=\"https://www.statsmodels.org/devel/datasets/generated/elnino.html\"\n",
        "  style='box-sizing: inherit;-webkit-tap-highlight-color: transparent;\n",
        "  word-break:break-word;transition: color 0.125s ease 0s'><span\n",
        "  style='color:black;text-decoration:none'>El Nino - Sea Surface Temperatures</span></a></td>\n",
        " </tr>\n",
        " <tr height=19 style='height:14.4pt'>\n",
        "  <td height=19 class=xl1510490 align=right style='height:14.4pt'>11</td>\n",
        "  <td class=xl1510490><a\n",
        "  href=\"https://www.statsmodels.org/devel/datasets/generated/engel.html\"\n",
        "  style='box-sizing: inherit;-webkit-tap-highlight-color: transparent;\n",
        "  word-break:break-word;transition: color 0.125s ease 0s'><span\n",
        "  style='color:black;text-decoration:none'>Engel (1857) food expenditure data</span></a></td>\n",
        " </tr>\n",
        " <tr height=19 style='height:14.4pt'>\n",
        "  <td height=19 class=xl1510490 align=right style='height:14.4pt'>12</td>\n",
        "  <td class=xl1510490><a\n",
        "  href=\"https://www.statsmodels.org/devel/datasets/generated/fair.html\"\n",
        "  style='box-sizing: inherit;-webkit-tap-highlight-color: transparent;\n",
        "  word-break:break-word;transition: color 0.125s ease 0s'><span\n",
        "  style='color:black;text-decoration:none'>Affairs dataset</span></a></td>\n",
        " </tr>\n",
        " <tr height=19 style='height:14.4pt'>\n",
        "  <td height=19 class=xl1510490 align=right style='height:14.4pt'>13</td>\n",
        "  <td class=xl1510490><a\n",
        "  href=\"https://www.statsmodels.org/devel/datasets/generated/fertility.html\"\n",
        "  style='box-sizing: inherit;-webkit-tap-highlight-color: transparent;\n",
        "  word-break:break-word;transition: color 0.125s ease 0s'><span\n",
        "  style='color:black;text-decoration:none'>World Bank Fertility Data</span></a></td>\n",
        " </tr>\n",
        " <tr height=19 style='height:14.4pt'>\n",
        "  <td height=19 class=xl1510490 align=right style='height:14.4pt'>14</td>\n",
        "  <td class=xl1510490><a\n",
        "  href=\"https://www.statsmodels.org/devel/datasets/generated/grunfeld.html\"\n",
        "  style='box-sizing: inherit;-webkit-tap-highlight-color: transparent;\n",
        "  word-break:break-word;transition: color 0.125s ease 0s'><span\n",
        "  style='color:black;text-decoration:none'>Grunfeld (1950) Investment Data</span></a></td>\n",
        " </tr>\n",
        " <tr height=19 style='height:14.4pt'>\n",
        "  <td height=19 class=xl1510490 align=right style='height:14.4pt'>15</td>\n",
        "  <td class=xl1510490><a\n",
        "  href=\"https://www.statsmodels.org/devel/datasets/generated/heart.html\"\n",
        "  style='box-sizing: inherit;-webkit-tap-highlight-color: transparent;\n",
        "  word-break:break-word;transition: color 0.125s ease 0s'><span\n",
        "  style='color:black;text-decoration:none'>Transplant Survival Data</span></a></td>\n",
        " </tr>\n",
        " <tr height=19 style='height:14.4pt'>\n",
        "  <td height=19 class=xl1510490 align=right style='height:14.4pt'>16</td>\n",
        "  <td class=xl1510490><a\n",
        "  href=\"https://www.statsmodels.org/devel/datasets/generated/interest_inflation.html\"\n",
        "  style='box-sizing: inherit;-webkit-tap-highlight-color: transparent;\n",
        "  word-break:break-word;transition: color 0.125s ease 0s'><span\n",
        "  style='color:black;text-decoration:none'>(West) German interest and inflation\n",
        "  rate 1972-1998</span></a></td>\n",
        " </tr>\n",
        " <tr height=19 style='height:14.4pt'>\n",
        "  <td height=19 class=xl1510490 align=right style='height:14.4pt'>17</td>\n",
        "  <td class=xl1510490><a\n",
        "  href=\"https://www.statsmodels.org/devel/datasets/generated/longley.html\"\n",
        "  style='box-sizing: inherit;-webkit-tap-highlight-color: transparent;\n",
        "  word-break:break-word;transition: color 0.125s ease 0s'><span\n",
        "  style='color:black;text-decoration:none'>Longley dataset</span></a></td>\n",
        " </tr>\n",
        " <tr height=19 style='height:14.4pt'>\n",
        "  <td height=19 class=xl1510490 align=right style='height:14.4pt'>18</td>\n",
        "  <td class=xl1510490><a\n",
        "  href=\"https://www.statsmodels.org/devel/datasets/generated/macrodata.html\"\n",
        "  style='box-sizing: inherit;-webkit-tap-highlight-color: transparent;\n",
        "  word-break:break-word;transition: color 0.125s ease 0s'><span\n",
        "  style='color:black;text-decoration:none'>United States Macroeconomic data</span></a></td>\n",
        " </tr>\n",
        " <tr height=19 style='height:14.4pt'>\n",
        "  <td height=19 class=xl1510490 align=right style='height:14.4pt'>19</td>\n",
        "  <td class=xl1510490><a\n",
        "  href=\"https://www.statsmodels.org/devel/datasets/generated/modechoice.html\"\n",
        "  style='box-sizing: inherit;-webkit-tap-highlight-color: transparent;\n",
        "  word-break:break-word;transition: color 0.125s ease 0s'><span\n",
        "  style='color:black;text-decoration:none'>Travel Mode Choice</span></a></td>\n",
        " </tr>\n",
        " <tr height=19 style='height:14.4pt'>\n",
        "  <td height=19 class=xl1510490 align=right style='height:14.4pt'>20</td>\n",
        "  <td class=xl1510490><a\n",
        "  href=\"https://www.statsmodels.org/devel/datasets/generated/nile.html\"\n",
        "  style='box-sizing: inherit;-webkit-tap-highlight-color: transparent;\n",
        "  word-break:break-word;transition: color 0.125s ease 0s'><span\n",
        "  style='color:black;text-decoration:none'>Nile River flows at Ashwan 1871-1970</span></a></td>\n",
        " </tr>\n",
        " <tr height=19 style='height:14.4pt'>\n",
        "  <td height=19 class=xl1510490 align=right style='height:14.4pt'>21</td>\n",
        "  <td class=xl1510490><a\n",
        "  href=\"https://www.statsmodels.org/devel/datasets/generated/randhie.html\"\n",
        "  style='box-sizing: inherit;-webkit-tap-highlight-color: transparent;\n",
        "  word-break:break-word;transition: color 0.125s ease 0s'><span\n",
        "  style='color:black;text-decoration:none'>RAND Health Insurance Experiment\n",
        "  Data</span></a></td>\n",
        " </tr>\n",
        " <tr height=19 style='height:14.4pt'>\n",
        "  <td height=19 class=xl1510490 align=right style='height:14.4pt'>22</td>\n",
        "  <td class=xl1510490><a\n",
        "  href=\"https://www.statsmodels.org/devel/datasets/generated/scotland.html\"\n",
        "  style='box-sizing: inherit;-webkit-tap-highlight-color: transparent;\n",
        "  word-break:break-word;transition: color 0.125s ease 0s'><span\n",
        "  style='color:black;text-decoration:none'>Taxation Powers Vote for the\n",
        "  Scottish Parliament 1997</span></a></td>\n",
        " </tr>\n",
        " <tr height=19 style='height:14.4pt'>\n",
        "  <td height=19 class=xl1510490 align=right style='height:14.4pt'>23</td>\n",
        "  <td class=xl1510490><a\n",
        "  href=\"https://www.statsmodels.org/devel/datasets/generated/spector.html\"\n",
        "  style='box-sizing: inherit;-webkit-tap-highlight-color: transparent;\n",
        "  word-break:break-word;transition: color 0.125s ease 0s'><span\n",
        "  style='color:black;text-decoration:none'>Spector and Mazzeo (1980) - Program\n",
        "  Effectiveness Data</span></a></td>\n",
        " </tr>\n",
        " <tr height=19 style='height:14.4pt'>\n",
        "  <td height=19 class=xl1510490 align=right style='height:14.4pt'>24</td>\n",
        "  <td class=xl1510490><a\n",
        "  href=\"https://www.statsmodels.org/devel/datasets/generated/stackloss.html\"\n",
        "  style='box-sizing: inherit;-webkit-tap-highlight-color: transparent;\n",
        "  word-break:break-word;transition: color 0.125s ease 0s'><span\n",
        "  style='color:black;text-decoration:none'>Stack loss data</span></a></td>\n",
        " </tr>\n",
        " <tr height=19 style='height:14.4pt'>\n",
        "  <td height=19 class=xl1510490 align=right style='height:14.4pt'>25</td>\n",
        "  <td class=xl1510490><a\n",
        "  href=\"https://www.statsmodels.org/devel/datasets/generated/star98.html\"\n",
        "  style='box-sizing: inherit;-webkit-tap-highlight-color: transparent;\n",
        "  word-break:break-word;transition: color 0.125s ease 0s'><span\n",
        "  style='color:black;text-decoration:none'>Star98 Educational Dataset</span></a></td>\n",
        " </tr>\n",
        " <tr height=19 style='height:14.4pt'>\n",
        "  <td height=19 class=xl1510490 align=right style='height:14.4pt'>26</td>\n",
        "  <td class=xl1510490><a\n",
        "  href=\"https://www.statsmodels.org/devel/datasets/generated/statecrime.html\"\n",
        "  style='box-sizing: inherit;-webkit-tap-highlight-color: transparent;\n",
        "  word-break:break-word;transition: color 0.125s ease 0s'><span\n",
        "  style='color:black;text-decoration:none'>Statewide Crime Data 2009</span></a></td>\n",
        " </tr>\n",
        " <tr height=19 style='height:14.4pt'>\n",
        "  <td height=19 class=xl1510490 align=right style='height:14.4pt'>27</td>\n",
        "  <td class=xl1510490><a\n",
        "  href=\"https://www.statsmodels.org/devel/datasets/generated/strikes.html\"\n",
        "  style='box-sizing: inherit;-webkit-tap-highlight-color: transparent;\n",
        "  word-break:break-word;transition: color 0.125s ease 0s'><span\n",
        "  style='color:black;text-decoration:none'>U.S. Strike Duration Data</span></a></td>\n",
        " </tr>\n",
        " <tr height=19 style='height:14.4pt'>\n",
        "  <td height=19 class=xl1510490 align=right style='height:14.4pt'>28</td>\n",
        "  <td class=xl1510490><a\n",
        "  href=\"https://www.statsmodels.org/devel/datasets/generated/sunspots.html\"\n",
        "  style='box-sizing: inherit;-webkit-tap-highlight-color: transparent;\n",
        "  word-break:break-word;transition: color 0.125s ease 0s'><span\n",
        "  style='color:black;text-decoration:none'>Yearly sunspots data 1700-2008</span></a></td>\n",
        " </tr>\n",
        " <![if supportMisalignedColumns]>\n",
        " <tr height=0 style='display:none'>\n",
        "  <td width=64 style='width:48pt'></td>\n",
        "  <td width=346 style='width:259pt'></td>\n",
        " </tr>\n",
        " <![endif]>\n",
        "</table>\n",
        "<br />\n",
        "For more information click <a href=\"https://www.statsmodels.org/devel/datasets/index.html\"> here </a>\n"
      ],
      "metadata": {
        "id": "jEotMZR4DL1y"
      }
    },
    {
      "cell_type": "markdown",
      "source": [
        "###Sklearn"
      ],
      "metadata": {
        "id": "412CbluW__1z"
      }
    },
    {
      "cell_type": "markdown",
      "source": [
        "Sklearn package can be used to access to Toy datasets and real world datasets. <br /> \n",
        "General dataset API:<br /> \n",
        "There are three main kinds of dataset interfaces in sklearn that can be used to get datasets depending on the desired type of dataset.\n",
        "<ol>\n",
        "<li>The toy dataset loaders</li>\n",
        "<li>The realworld dataset fetchers</li>\n",
        "<li>The dataset generation functions</li>\n",
        "</ol>"
      ],
      "metadata": {
        "id": "TpIjaC9bEKPi"
      }
    },
    {
      "cell_type": "markdown",
      "source": [
        "#### Sklearn toy dataset loaders"
      ],
      "metadata": {
        "id": "Q1aneOdvHABd"
      }
    },
    {
      "cell_type": "markdown",
      "source": [
        "There are some few standard datasets in sklearn.datasets module that do not require to be downloaded from any external website. You can see the list of these datasets in the following table: <br />\n",
        "<table border=0 cellpadding=0 cellspacing=0 width=972 style='border-collapse:\n",
        " collapse;table-layout:fixed;width:728pt'>\n",
        " <col width=64 style='width:48pt'>\n",
        " <col width=106 style='mso-width-source:userset;mso-width-alt:3754;width:79pt'>\n",
        " <col width=412 style='mso-width-source:userset;mso-width-alt:14648;width:309pt'>\n",
        " <col width=295 style='mso-width-source:userset;mso-width-alt:10496;width:221pt'>\n",
        " <col width=95 style='mso-width-source:userset;mso-width-alt:3384;width:71pt'>\n",
        " <tr height=19 style='height:14.4pt'>\n",
        "  <td height=19 class=xl6530629 width=64 style='height:14.4pt;width:48pt'>row</td>\n",
        "  <td class=xl6530629 width=106 style='width:79pt'>Dataset title</td>\n",
        "  <td class=xl6530629 width=412 style='width:309pt'>Description</td>\n",
        "  <td class=xl6530629 width=295 style='width:221pt'>function</td>\n",
        "  <td class=xl6530629 width=95 style='width:71pt'>type</td>\n",
        " </tr>\n",
        " <tr height=19 style='height:14.4pt'>\n",
        "  <td height=19 class=xl1530629 align=right style='height:14.4pt'>1</td>\n",
        "  <td class=xl1530629>Iris</td>\n",
        "  <td class=xl1530629 style='box-sizing: border-box;padding:0.125rem 0.5rem 0.125rem 0.25rem'>Load\n",
        "  and return the iris dataset.</td>\n",
        "  <td class=xl1530629><span style='box-sizing: border-box'><a\n",
        "  href=\"https://scikit-learn.org/stable/modules/generated/sklearn.datasets.load_iris.html#sklearn.datasets.load_iris\"\n",
        "  title=\"sklearn.datasets.load_iris\" style='box-sizing: border-box;overflow-wrap: break-word'><span\n",
        "  style='color:black;text-decoration:none'>load_iris(*[,&nbsp;return_X_y,&nbsp;as_frame])</span></a></span></td>\n",
        "  <td class=xl1530629>(classification)</td>\n",
        " </tr>\n",
        " <tr height=19 style='height:14.4pt'>\n",
        "  <td height=19 class=xl1530629 align=right style='height:14.4pt'>2</td>\n",
        "  <td class=xl1530629>Diabetes</td>\n",
        "  <td class=xl1530629 style='box-sizing: border-box;padding:0.125rem 0.5rem 0.125rem 0.25rem'>Load\n",
        "  and return the diabetes dataset.</td>\n",
        "  <td class=xl1530629><span style='box-sizing: border-box'><a\n",
        "  href=\"https://scikit-learn.org/stable/modules/generated/sklearn.datasets.load_diabetes.html#sklearn.datasets.load_diabetes\"\n",
        "  title=\"sklearn.datasets.load_diabetes\" style='box-sizing: border-box;\n",
        "  overflow-wrap: break-word'><span style='color:black;text-decoration:none'>load_diabetes(*[,&nbsp;return_X_y,&nbsp;as_frame,&nbsp;scaled])</span></a></span></td>\n",
        "  <td class=xl1530629>(regression)</td>\n",
        " </tr>\n",
        " <tr height=19 style='height:14.4pt'>\n",
        "  <td height=19 class=xl1530629 align=right style='height:14.4pt'>3</td>\n",
        "  <td class=xl1530629>Digits</td>\n",
        "  <td class=xl1530629 style='box-sizing: border-box;padding:0.125rem 0.5rem 0.125rem 0.25rem'>Load\n",
        "  and return the digits dataset.</td>\n",
        "  <td class=xl1530629><span style='box-sizing: border-box'><a\n",
        "  href=\"https://scikit-learn.org/stable/modules/generated/sklearn.datasets.load_digits.html#sklearn.datasets.load_digits\"\n",
        "  title=\"sklearn.datasets.load_digits\" style='box-sizing: border-box;\n",
        "  overflow-wrap: break-word'><span style='color:black;text-decoration:none'>load_digits(*[,&nbsp;n_class,&nbsp;return_X_y,&nbsp;as_frame])</span></a></span></td>\n",
        "  <td class=xl1530629>(classification)</td>\n",
        " </tr>\n",
        " <tr height=19 style='height:14.4pt'>\n",
        "  <td height=19 class=xl1530629 align=right style='height:14.4pt'>4</td>\n",
        "  <td class=xl1530629>Physical Exercise</td>\n",
        "  <td class=xl1530629 style='box-sizing: border-box;padding:0.125rem 0.5rem 0.125rem 0.25rem'>Load\n",
        "  and return the physical exercise Linnerud dataset.</td>\n",
        "  <td class=xl1530629><span style='box-sizing: border-box'><a\n",
        "  href=\"https://scikit-learn.org/stable/modules/generated/sklearn.datasets.load_linnerud.html#sklearn.datasets.load_linnerud\"\n",
        "  title=\"sklearn.datasets.load_linnerud\" style='box-sizing: border-box;\n",
        "  overflow-wrap: break-word'><span style='color:black;text-decoration:none'>load_linnerud(*[,&nbsp;return_X_y,&nbsp;as_frame])</span></a></span></td>\n",
        "  <td class=xl1530629></td>\n",
        " </tr>\n",
        " <tr height=19 style='height:14.4pt'>\n",
        "  <td height=19 class=xl1530629 align=right style='height:14.4pt'>5</td>\n",
        "  <td class=xl1530629>Wine</td>\n",
        "  <td class=xl1530629 style='box-sizing: border-box;padding:0.125rem 0.5rem 0.125rem 0.25rem'>Load\n",
        "  and return the wine dataset.</td>\n",
        "  <td class=xl1530629><span style='box-sizing: border-box'><a\n",
        "  href=\"https://scikit-learn.org/stable/modules/generated/sklearn.datasets.load_wine.html#sklearn.datasets.load_wine\"\n",
        "  title=\"sklearn.datasets.load_wine\" style='box-sizing: border-box;overflow-wrap: break-word'><span\n",
        "  style='color:black;text-decoration:none'>load_wine(*[,&nbsp;return_X_y,&nbsp;as_frame])</span></a></span></td>\n",
        "  <td class=xl1530629>(classification)</td>\n",
        " </tr>\n",
        " <tr height=19 style='height:14.4pt'>\n",
        "  <td height=19 class=xl1530629 align=right style='height:14.4pt'>6</td>\n",
        "  <td class=xl1530629>Wisconsin</td>\n",
        "  <td class=xl1530629 style='box-sizing: border-box;padding:0.125rem 0.5rem 0.125rem 0.25rem'>Load\n",
        "  and return the breast cancer wisconsin dataset.</td>\n",
        "  <td class=xl1530629><span style='box-sizing: border-box'><a\n",
        "  href=\"https://scikit-learn.org/stable/modules/generated/sklearn.datasets.load_breast_cancer.html#sklearn.datasets.load_breast_cancer\"\n",
        "  title=\"sklearn.datasets.load_breast_cancer\" style='box-sizing: border-box;\n",
        "  overflow-wrap: break-word'><span style='color:black;text-decoration:none'>load_breast_cancer(*[,&nbsp;return_X_y,&nbsp;as_frame])</span></a></span></td>\n",
        "  <td class=xl1530629>(classification)</td>\n",
        " </tr>\n",
        " <![if supportMisalignedColumns]>\n",
        " <tr height=0 style='display:none'>\n",
        "  <td width=64 style='width:48pt'></td>\n",
        "  <td width=106 style='width:79pt'></td>\n",
        "  <td width=412 style='width:309pt'></td>\n",
        "  <td width=295 style='width:221pt'></td>\n",
        "  <td width=95 style='width:71pt'></td>\n",
        " </tr>\n",
        " <![endif]>\n",
        "</table>\n"
      ],
      "metadata": {
        "id": "95hcG1zzKQOd"
      }
    },
    {
      "cell_type": "code",
      "source": [
        "from sklearn.datasets import load_iris\n",
        "import pandas as pd\n",
        "import numpy as np\n",
        "\n",
        "irisdata = load_iris()\n",
        "\n",
        "iris = pd.DataFrame(\n",
        "    data= np.c_[irisdata['data'], irisdata['target']],\n",
        "    columns= irisdata['feature_names'] + ['target']\n",
        "    )\n",
        "\n",
        "print (iris.head())"
      ],
      "metadata": {
        "colab": {
          "base_uri": "https://localhost:8080/"
        },
        "id": "qGNH1i2-Llqi",
        "outputId": "f3256d73-aa9c-4e78-dcab-28ec54afe516"
      },
      "execution_count": 43,
      "outputs": [
        {
          "output_type": "stream",
          "name": "stdout",
          "text": [
            "   sepal length (cm)  sepal width (cm)  petal length (cm)  petal width (cm)  \\\n",
            "0                5.1               3.5                1.4               0.2   \n",
            "1                4.9               3.0                1.4               0.2   \n",
            "2                4.7               3.2                1.3               0.2   \n",
            "3                4.6               3.1                1.5               0.2   \n",
            "4                5.0               3.6                1.4               0.2   \n",
            "\n",
            "   target  \n",
            "0     0.0  \n",
            "1     0.0  \n",
            "2     0.0  \n",
            "3     0.0  \n",
            "4     0.0  \n"
          ]
        }
      ]
    },
    {
      "cell_type": "markdown",
      "source": [
        "#### Real world datasets"
      ],
      "metadata": {
        "id": "H1li7k6QKzZV"
      }
    },
    {
      "cell_type": "markdown",
      "source": [
        "Sklearn provides some functions to download and load a couple of datasets. The following table shows some of these functions: <br />\n",
        "<table border=0 cellpadding=0 cellspacing=0 width=961 style='border-collapse:\n",
        " collapse;table-layout:fixed;width:720pt'>\n",
        " <col width=64 style='width:48pt'>\n",
        " <col width=113 style='mso-width-source:userset;mso-width-alt:4010;width:85pt'>\n",
        " <col width=394 style='mso-width-source:userset;mso-width-alt:13994;width:295pt'>\n",
        " <col width=295 style='mso-width-source:userset;mso-width-alt:10496;width:221pt'>\n",
        " <col width=95 style='mso-width-source:userset;mso-width-alt:3384;width:71pt'>\n",
        " <tr height=20 style='height:15.0pt'>\n",
        "  <td height=20 class=xl695574 width=64 style='height:15.0pt;width:48pt'>row</td>\n",
        "  <td class=xl695574 width=113 style='width:85pt'>Dataset title</td>\n",
        "  <td class=xl695574 width=394 style='width:295pt'>Description</td>\n",
        "  <td class=xl695574 width=295 style='width:221pt'>function</td>\n",
        "  <td class=xl695574 width=95 style='width:71pt'>type</td>\n",
        " </tr>\n",
        " <tr height=21 style='height:15.6pt'>\n",
        "  <td height=21 class=xl705574 style='height:15.6pt'>1</td>\n",
        "  <td class=xl155574>Olivetti</td>\n",
        "  <td class=xl665574>Load the Olivetti faces data-set from AT&amp;T.</td>\n",
        "  <td class=xl655574 style='box-sizing: border-box;padding:0.125rem 0.5rem 0.125rem 0.25rem'><span\n",
        "  style='box-sizing: border-box'><a\n",
        "  href=\"https://scikit-learn.org/stable/modules/generated/sklearn.datasets.fetch_olivetti_faces.html#sklearn.datasets.fetch_olivetti_faces\"\n",
        "  title=\"sklearn.datasets.fetch_olivetti_faces\" style='box-sizing: border-box;\n",
        "  overflow-wrap: break-word'>fetch_olivetti_faces(*[,&nbsp;data_home,&nbsp;...])</a></span></td>\n",
        "  <td class=xl155574>(classification)</td>\n",
        " </tr>\n",
        " <tr height=21 style='height:15.6pt'>\n",
        "  <td height=21 class=xl705574 style='height:15.6pt'>2</td>\n",
        "  <td class=xl155574>20 newsgroups</td>\n",
        "  <td class=xl685574 style='border-top:none'>Load the filenames and data from\n",
        "  the 20 newsgroups dataset.</td>\n",
        "  <td class=xl675574 style='border-top:none;box-sizing: border-box;padding:\n",
        "  0.125rem 0.5rem 0.125rem 0.25rem'><span style='box-sizing: border-box'><a\n",
        "  href=\"https://scikit-learn.org/stable/modules/generated/sklearn.datasets.fetch_20newsgroups.html#sklearn.datasets.fetch_20newsgroups\"\n",
        "  title=\"sklearn.datasets.fetch_20newsgroups\" style='box-sizing: border-box;\n",
        "  overflow-wrap: break-word'>fetch_20newsgroups(*[,&nbsp;data_home,&nbsp;subset,&nbsp;...])</a></span></td>\n",
        "  <td class=xl155574>(classification)</td>\n",
        " </tr>\n",
        " <tr height=21 style='height:15.6pt'>\n",
        "  <td height=21 class=xl705574 style='height:15.6pt'>3</td>\n",
        "  <td class=xl155574>20 newsgroups</td>\n",
        "  <td class=xl665574 style='border-top:none'>Load and vectorize the 20\n",
        "  newsgroups dataset.</td>\n",
        "  <td class=xl655574 style='border-top:none;box-sizing: border-box;padding:\n",
        "  0.125rem 0.5rem 0.125rem 0.25rem'><span style='box-sizing: border-box'><a\n",
        "  href=\"https://scikit-learn.org/stable/modules/generated/sklearn.datasets.fetch_20newsgroups_vectorized.html#sklearn.datasets.fetch_20newsgroups_vectorized\"\n",
        "  title=\"sklearn.datasets.fetch_20newsgroups_vectorized\" style='box-sizing: border-box;\n",
        "  overflow-wrap: break-word'>fetch_20newsgroups_vectorized(*[,&nbsp;subset,&nbsp;...])</a></span></td>\n",
        "  <td class=xl155574>(classification)</td>\n",
        " </tr>\n",
        " <tr height=21 style='height:15.6pt'>\n",
        "  <td height=21 class=xl705574 style='height:15.6pt'>4</td>\n",
        "  <td class=xl155574>Faces in the Wild</td>\n",
        "  <td class=xl685574 style='border-top:none'>Load the Labeled Faces in the Wild\n",
        "  (LFW) people dataset.</td>\n",
        "  <td class=xl675574 style='border-top:none;box-sizing: border-box;padding:\n",
        "  0.125rem 0.5rem 0.125rem 0.25rem'><span style='box-sizing: border-box'><a\n",
        "  href=\"https://scikit-learn.org/stable/modules/generated/sklearn.datasets.fetch_lfw_people.html#sklearn.datasets.fetch_lfw_people\"\n",
        "  title=\"sklearn.datasets.fetch_lfw_people\" style='box-sizing: border-box;\n",
        "  overflow-wrap: break-word'>fetch_lfw_people(*[,&nbsp;data_home,&nbsp;funneled,&nbsp;...])</a></span></td>\n",
        "  <td class=xl155574>(classification)</td>\n",
        " </tr>\n",
        " <tr height=21 style='height:15.6pt'>\n",
        "  <td height=21 class=xl705574 style='height:15.6pt'>5</td>\n",
        "  <td class=xl155574>Faces in the Wild</td>\n",
        "  <td class=xl665574 style='border-top:none'>Load the Labeled Faces in the Wild\n",
        "  (LFW) pairs dataset.</td>\n",
        "  <td class=xl655574 style='border-top:none;box-sizing: border-box;padding:\n",
        "  0.125rem 0.5rem 0.125rem 0.25rem'><span style='box-sizing: border-box'><a\n",
        "  href=\"https://scikit-learn.org/stable/modules/generated/sklearn.datasets.fetch_lfw_pairs.html#sklearn.datasets.fetch_lfw_pairs\"\n",
        "  title=\"sklearn.datasets.fetch_lfw_pairs\" style='box-sizing: border-box;\n",
        "  overflow-wrap: break-word'>fetch_lfw_pairs(*[,&nbsp;subset,&nbsp;data_home,&nbsp;...])</a></span></td>\n",
        "  <td class=xl155574>(classification)</td>\n",
        " </tr>\n",
        " <tr height=21 style='height:15.6pt'>\n",
        "  <td height=21 class=xl705574 style='height:15.6pt'>6</td>\n",
        "  <td class=xl155574>Covertype</td>\n",
        "  <td class=xl685574 style='border-top:none'>Load the covertype dataset.</td>\n",
        "  <td class=xl675574 style='border-top:none;box-sizing: border-box;padding:\n",
        "  0.125rem 0.5rem 0.125rem 0.25rem'><span style='box-sizing: border-box'><a\n",
        "  href=\"https://scikit-learn.org/stable/modules/generated/sklearn.datasets.fetch_covtype.html#sklearn.datasets.fetch_covtype\"\n",
        "  title=\"sklearn.datasets.fetch_covtype\" style='box-sizing: border-box;\n",
        "  overflow-wrap: break-word'>fetch_covtype(*[,&nbsp;data_home,&nbsp;...])</a></span></td>\n",
        "  <td class=xl155574>(classification)</td>\n",
        " </tr>\n",
        " <tr height=21 style='height:15.6pt'>\n",
        "  <td height=21 class=xl705574 style='height:15.6pt'>7</td>\n",
        "  <td class=xl155574>RCV1</td>\n",
        "  <td class=xl665574 style='border-top:none'>Load the RCV1 multilabel dataset.</td>\n",
        "  <td class=xl655574 style='border-top:none;box-sizing: border-box;padding:\n",
        "  0.125rem 0.5rem 0.125rem 0.25rem'><span style='box-sizing: border-box'><a\n",
        "  href=\"https://scikit-learn.org/stable/modules/generated/sklearn.datasets.fetch_rcv1.html#sklearn.datasets.fetch_rcv1\"\n",
        "  title=\"sklearn.datasets.fetch_rcv1\" style='box-sizing: border-box;overflow-wrap: break-word'>fetch_rcv1(*[,&nbsp;data_home,&nbsp;subset,&nbsp;...])</a></span></td>\n",
        "  <td class=xl155574>(classification)</td>\n",
        " </tr>\n",
        " <tr height=21 style='height:15.6pt'>\n",
        "  <td height=21 class=xl705574 style='height:15.6pt'>8</td>\n",
        "  <td class=xl155574>kddCup99</td>\n",
        "  <td class=xl685574 style='border-top:none'>Load the kddcup99 dataset.</td>\n",
        "  <td class=xl675574 style='border-top:none;box-sizing: border-box;padding:\n",
        "  0.125rem 0.5rem 0.125rem 0.25rem'><span style='box-sizing: border-box'><a\n",
        "  href=\"https://scikit-learn.org/stable/modules/generated/sklearn.datasets.fetch_kddcup99.html#sklearn.datasets.fetch_kddcup99\"\n",
        "  title=\"sklearn.datasets.fetch_kddcup99\" style='box-sizing: border-box;\n",
        "  overflow-wrap: break-word'>fetch_kddcup99(*[,&nbsp;subset,&nbsp;data_home,&nbsp;...])</a></span></td>\n",
        "  <td class=xl155574>(classification)</td>\n",
        " </tr>\n",
        " <tr height=21 style='height:15.6pt'>\n",
        "  <td height=21 class=xl705574 style='height:15.6pt'>9</td>\n",
        "  <td class=xl155574>California housing</td>\n",
        "  <td class=xl665574 style='border-top:none'>Load the California housing\n",
        "  dataset.</td>\n",
        "  <td class=xl655574 style='border-top:none;box-sizing: border-box;padding:\n",
        "  0.125rem 0.5rem 0.125rem 0.25rem'><span style='box-sizing: border-box'><a\n",
        "  href=\"https://scikit-learn.org/stable/modules/generated/sklearn.datasets.fetch_california_housing.html#sklearn.datasets.fetch_california_housing\"\n",
        "  title=\"sklearn.datasets.fetch_california_housing\" style='box-sizing: border-box;\n",
        "  overflow-wrap: break-word'>fetch_california_housing(*[,&nbsp;data_home,&nbsp;...])</a></span></td>\n",
        "  <td class=xl155574>(regression)</td>\n",
        " </tr>\n",
        " <![if supportMisalignedColumns]>\n",
        " <tr height=0 style='display:none'>\n",
        "  <td width=64 style='width:48pt'></td>\n",
        "  <td width=113 style='width:85pt'></td>\n",
        "  <td width=394 style='width:295pt'></td>\n",
        "  <td width=295 style='width:221pt'></td>\n",
        "  <td width=95 style='width:71pt'></td>\n",
        " </tr>\n",
        " <![endif]>\n",
        "</table>"
      ],
      "metadata": {
        "id": "rWNSJ71iLAwY"
      }
    },
    {
      "cell_type": "code",
      "source": [
        "from sklearn.datasets import fetch_lfw_people\n",
        "lfw_people = fetch_lfw_people(min_faces_per_person=70, resize=0.4)\n",
        "for name in lfw_people.target_names:\n",
        "  print(name)"
      ],
      "metadata": {
        "colab": {
          "base_uri": "https://localhost:8080/"
        },
        "id": "fJrmV0wbAENd",
        "outputId": "ae5b707b-6978-44ff-dc69-8ff536f2a44a"
      },
      "execution_count": 44,
      "outputs": [
        {
          "output_type": "stream",
          "name": "stdout",
          "text": [
            "Ariel Sharon\n",
            "Colin Powell\n",
            "Donald Rumsfeld\n",
            "George W Bush\n",
            "Gerhard Schroeder\n",
            "Hugo Chavez\n",
            "Tony Blair\n"
          ]
        }
      ]
    },
    {
      "cell_type": "code",
      "source": [
        "from matplotlib import pyplot as plt\n",
        "fig, axes = plt.subplots(1, 5, figsize=(10, 4))\n",
        "\n",
        "for i in range (5):\n",
        "  axes[i].set_title(lfw_people.target_names[lfw_people.target[i]])\n",
        "  axes[i].imshow(lfw_people.images[i])\n",
        "\n",
        "\n",
        "plt.show()\n"
      ],
      "metadata": {
        "colab": {
          "base_uri": "https://localhost:8080/",
          "height": 194
        },
        "id": "5otb3LGRSyaM",
        "outputId": "0f159434-5f7d-47f6-bdd9-bd288313fd17"
      },
      "execution_count": 45,
      "outputs": [
        {
          "output_type": "display_data",
          "data": {
            "text/plain": [
              "<Figure size 720x288 with 5 Axes>"
            ],
            "image/png": "[encoded data removed]"
          },
          "metadata": {
            "needs_background": "light"
          }
        }
      ]
    },
    {
      "cell_type": "markdown",
      "source": [
        "For more information about sklearn package click <a href=\"https://scikit-learn.org/stable/datasets.html\"> here </a>"
      ],
      "metadata": {
        "id": "Xrbex7kQjonE"
      }
    },
    {
      "cell_type": "markdown",
      "source": [
        "###Vega-Datasets"
      ],
      "metadata": {
        "id": "4t8zblOpAAMC"
      }
    },
    {
      "cell_type": "markdown",
      "source": [
        "The list of datasets in vega-datasets can be seen by running the following code: "
      ],
      "metadata": {
        "id": "dtnAennlY6B_"
      }
    },
    {
      "cell_type": "code",
      "source": [
        "from vega_datasets import data\n",
        "data.list_datasets()\n"
      ],
      "metadata": {
        "colab": {
          "base_uri": "https://localhost:8080/"
        },
        "id": "JJdEtbzabuJz",
        "outputId": "438dce79-30d2-47a8-ed91-2b1ebd8d587e"
      },
      "execution_count": 46,
      "outputs": [
        {
          "output_type": "execute_result",
          "data": {
            "text/plain": [
              "['7zip',\n",
              " 'airports',\n",
              " 'annual-precip',\n",
              " 'anscombe',\n",
              " 'barley',\n",
              " 'birdstrikes',\n",
              " 'budget',\n",
              " 'budgets',\n",
              " 'burtin',\n",
              " 'cars',\n",
              " 'climate',\n",
              " 'co2-concentration',\n",
              " 'countries',\n",
              " 'crimea',\n",
              " 'disasters',\n",
              " 'driving',\n",
              " 'earthquakes',\n",
              " 'ffox',\n",
              " 'flare',\n",
              " 'flare-dependencies',\n",
              " 'flights-10k',\n",
              " 'flights-200k',\n",
              " 'flights-20k',\n",
              " 'flights-2k',\n",
              " 'flights-3m',\n",
              " 'flights-5k',\n",
              " 'flights-airport',\n",
              " 'gapminder',\n",
              " 'gapminder-health-income',\n",
              " 'gimp',\n",
              " 'github',\n",
              " 'graticule',\n",
              " 'income',\n",
              " 'iowa-electricity',\n",
              " 'iris',\n",
              " 'jobs',\n",
              " 'la-riots',\n",
              " 'londonBoroughs',\n",
              " 'londonCentroids',\n",
              " 'londonTubeLines',\n",
              " 'lookup_groups',\n",
              " 'lookup_people',\n",
              " 'miserables',\n",
              " 'monarchs',\n",
              " 'movies',\n",
              " 'normal-2d',\n",
              " 'obesity',\n",
              " 'ohlc',\n",
              " 'points',\n",
              " 'population',\n",
              " 'population_engineers_hurricanes',\n",
              " 'seattle-temps',\n",
              " 'seattle-weather',\n",
              " 'sf-temps',\n",
              " 'sp500',\n",
              " 'stocks',\n",
              " 'udistrict',\n",
              " 'unemployment',\n",
              " 'unemployment-across-industries',\n",
              " 'uniform-2d',\n",
              " 'us-10m',\n",
              " 'us-employment',\n",
              " 'us-state-capitals',\n",
              " 'volcano',\n",
              " 'weather',\n",
              " 'weball26',\n",
              " 'wheat',\n",
              " 'windvectors',\n",
              " 'world-110m',\n",
              " 'zipcodes']"
            ]
          },
          "metadata": {},
          "execution_count": 46
        }
      ]
    },
    {
      "cell_type": "markdown",
      "source": [
        "Also dataset information can be seen as follow:"
      ],
      "metadata": {
        "id": "HqLVViy7cvMq"
      }
    },
    {
      "cell_type": "code",
      "source": [
        "data.iris.description"
      ],
      "metadata": {
        "colab": {
          "base_uri": "https://localhost:8080/",
          "height": 36
        },
        "id": "xo-EoBD1c5Yg",
        "outputId": "6b4c48c8-87da-418a-d5ca-303eadc143c8"
      },
      "execution_count": 47,
      "outputs": [
        {
          "output_type": "execute_result",
          "data": {
            "text/plain": [
              "'This classic dataset contains lengths and widths of petals and sepals for 150 iris flowers, drawn from three species. It was introduced by R.A. Fisher in 1936 [1]_.'"
            ],
            "application/vnd.google.colaboratory.intrinsic+json": {
              "type": "string"
            }
          },
          "metadata": {},
          "execution_count": 47
        }
      ]
    },
    {
      "cell_type": "markdown",
      "source": [
        "a method is provided to access to each dataset. For instance data.iris() return a dataframe that contains iris dataset."
      ],
      "metadata": {
        "id": "4x-pU6KDc_iQ"
      }
    },
    {
      "cell_type": "code",
      "source": [
        "df = data.iris()\n",
        "df.head()"
      ],
      "metadata": {
        "colab": {
          "base_uri": "https://localhost:8080/",
          "height": 206
        },
        "id": "_FXXUfFkb6A_",
        "outputId": "7f9bcef9-40d4-4990-ab33-42d52270a4be"
      },
      "execution_count": 48,
      "outputs": [
        {
          "output_type": "execute_result",
          "data": {
            "text/plain": [
              "   sepalLength  sepalWidth  petalLength  petalWidth species\n",
              "0          5.1         3.5          1.4         0.2  setosa\n",
              "1          4.9         3.0          1.4         0.2  setosa\n",
              "2          4.7         3.2          1.3         0.2  setosa\n",
              "3          4.6         3.1          1.5         0.2  setosa\n",
              "4          5.0         3.6          1.4         0.2  setosa"
            ],
            "text/html": [
              "\n",
              "  <div id=\"df-61ba4a99-ba0f-45ec-88a8-75afe1532c71\">\n",
              "    <div class=\"colab-df-container\">\n",
              "      <div>\n",
              "<style scoped>\n",
              "    .dataframe tbody tr th:only-of-type {\n",
              "        vertical-align: middle;\n",
              "    }\n",
              "\n",
              "    .dataframe tbody tr th {\n",
              "        vertical-align: top;\n",
              "    }\n",
              "\n",
              "    .dataframe thead th {\n",
              "        text-align: right;\n",
              "    }\n",
              "</style>\n",
              "<table border=\"1\" class=\"dataframe\">\n",
              "  <thead>\n",
              "    <tr style=\"text-align: right;\">\n",
              "      <th></th>\n",
              "      <th>sepalLength</th>\n",
              "      <th>sepalWidth</th>\n",
              "      <th>petalLength</th>\n",
              "      <th>petalWidth</th>\n",
              "      <th>species</th>\n",
              "    </tr>\n",
              "  </thead>\n",
              "  <tbody>\n",
              "    <tr>\n",
              "      <th>0</th>\n",
              "      <td>5.1</td>\n",
              "      <td>3.5</td>\n",
              "      <td>1.4</td>\n",
              "      <td>0.2</td>\n",
              "      <td>setosa</td>\n",
              "    </tr>\n",
              "    <tr>\n",
              "      <th>1</th>\n",
              "      <td>4.9</td>\n",
              "      <td>3.0</td>\n",
              "      <td>1.4</td>\n",
              "      <td>0.2</td>\n",
              "      <td>setosa</td>\n",
              "    </tr>\n",
              "    <tr>\n",
              "      <th>2</th>\n",
              "      <td>4.7</td>\n",
              "      <td>3.2</td>\n",
              "      <td>1.3</td>\n",
              "      <td>0.2</td>\n",
              "      <td>setosa</td>\n",
              "    </tr>\n",
              "    <tr>\n",
              "      <th>3</th>\n",
              "      <td>4.6</td>\n",
              "      <td>3.1</td>\n",
              "      <td>1.5</td>\n",
              "      <td>0.2</td>\n",
              "      <td>setosa</td>\n",
              "    </tr>\n",
              "    <tr>\n",
              "      <th>4</th>\n",
              "      <td>5.0</td>\n",
              "      <td>3.6</td>\n",
              "      <td>1.4</td>\n",
              "      <td>0.2</td>\n",
              "      <td>setosa</td>\n",
              "    </tr>\n",
              "  </tbody>\n",
              "</table>\n",
              "</div>\n",
              "      <button class=\"colab-df-convert\" onclick=\"convertToInteractive('df-61ba4a99-ba0f-45ec-88a8-75afe1532c71')\"\n",
              "              title=\"Convert this dataframe to an interactive table.\"\n",
              "              style=\"display:none;\">\n",
              "        \n",
              "  <svg xmlns=\"http://www.w3.org/2000/svg\" height=\"24px\"viewBox=\"0 0 24 24\"\n",
              "       width=\"24px\">\n",
              "    <path d=\"M0 0h24v24H0V0z\" fill=\"none\"/>\n",
              "    <path d=\"M18.56 5.44l.94 2.06.94-2.06 2.06-.94-2.06-.94-.94-2.06-.94 2.06-2.06.94zm-11 1L8.5 8.5l.94-2.06 2.06-.94-2.06-.94L8.5 2.5l-.94 2.06-2.06.94zm10 10l.94 2.06.94-2.06 2.06-.94-2.06-.94-.94-2.06-.94 2.06-2.06.94z\"/><path d=\"M17.41 7.96l-1.37-1.37c-.4-.4-.92-.59-1.43-.59-.52 0-1.04.2-1.43.59L10.3 9.45l-7.72 7.72c-.78.78-.78 2.05 0 2.83L4 21.41c.39.39.9.59 1.41.59.51 0 1.02-.2 1.41-.59l7.78-7.78 2.81-2.81c.8-.78.8-2.07 0-2.86zM5.41 20L4 18.59l7.72-7.72 1.47 1.35L5.41 20z\"/>\n",
              "  </svg>\n",
              "      </button>\n",
              "      \n",
              "  <style>\n",
              "    .colab-df-container {\n",
              "      display:flex;\n",
              "      flex-wrap:wrap;\n",
              "      gap: 12px;\n",
              "    }\n",
              "\n",
              "    .colab-df-convert {\n",
              "      background-color: #E8F0FE;\n",
              "      border: none;\n",
              "      border-radius: 50%;\n",
              "      cursor: pointer;\n",
              "      display: none;\n",
              "      fill: #1967D2;\n",
              "      height: 32px;\n",
              "      padding: 0 0 0 0;\n",
              "      width: 32px;\n",
              "    }\n",
              "\n",
              "    .colab-df-convert:hover {\n",
              "      background-color: #E2EBFA;\n",
              "      box-shadow: 0px 1px 2px rgba(60, 64, 67, 0.3), 0px 1px 3px 1px rgba(60, 64, 67, 0.15);\n",
              "      fill: #174EA6;\n",
              "    }\n",
              "\n",
              "    [theme=dark] .colab-df-convert {\n",
              "      background-color: #3B4455;\n",
              "      fill: #D2E3FC;\n",
              "    }\n",
              "\n",
              "    [theme=dark] .colab-df-convert:hover {\n",
              "      background-color: #434B5C;\n",
              "      box-shadow: 0px 1px 3px 1px rgba(0, 0, 0, 0.15);\n",
              "      filter: drop-shadow(0px 1px 2px rgba(0, 0, 0, 0.3));\n",
              "      fill: #FFFFFF;\n",
              "    }\n",
              "  </style>\n",
              "\n",
              "      <script>\n",
              "        const buttonEl =\n",
              "          document.querySelector('#df-61ba4a99-ba0f-45ec-88a8-75afe1532c71 button.colab-df-convert');\n",
              "        buttonEl.style.display =\n",
              "          google.colab.kernel.accessAllowed ? 'block' : 'none';\n",
              "\n",
              "        async function convertToInteractive(key) {\n",
              "          const element = document.querySelector('#df-61ba4a99-ba0f-45ec-88a8-75afe1532c71');\n",
              "          const dataTable =\n",
              "            await google.colab.kernel.invokeFunction('convertToInteractive',\n",
              "                                                     [key], {});\n",
              "          if (!dataTable) return;\n",
              "\n",
              "          const docLinkHtml = 'Like what you see? Visit the ' +\n",
              "            '<a target=\"_blank\" href=https://colab.research.google.com/notebooks/data_table.ipynb>data table notebook</a>'\n",
              "            + ' to learn more about interactive tables.';\n",
              "          element.innerHTML = '';\n",
              "          dataTable['output_type'] = 'display_data';\n",
              "          await google.colab.output.renderOutput(dataTable, element);\n",
              "          const docLink = document.createElement('div');\n",
              "          docLink.innerHTML = docLinkHtml;\n",
              "          element.appendChild(docLink);\n",
              "        }\n",
              "      </script>\n",
              "    </div>\n",
              "  </div>\n",
              "  "
            ]
          },
          "metadata": {},
          "execution_count": 48
        }
      ]
    },
    {
      "cell_type": "markdown",
      "source": [
        "For more information go <a href=\"https://github.com/jakevdp/vega_datasets\"> here </a>"
      ],
      "metadata": {
        "id": "_FYq_PVHdhV9"
      }
    },
    {
      "cell_type": "markdown",
      "source": [
        "## Datasets form well known dataset resource"
      ],
      "metadata": {
        "id": "2WwlPAKUeEc7"
      }
    },
    {
      "cell_type": "markdown",
      "source": [
        "Kaggle is one of the most famous dataset resource. You can download kaggle dataset on your computer and then use it, or you can imported from kaggle to your code directly.<br />\n",
        "you can find a simple tutorial for importing kaggle dataset in google colab <a href=\"https://www.kaggle.com/general/74235\"> here </a>"
      ],
      "metadata": {
        "id": "o-jx39XheLbn"
      }
    }
  ]
}